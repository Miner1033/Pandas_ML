{
 "cells": [
  {
   "cell_type": "code",
   "execution_count": 1,
   "id": "7dccab7f-96d7-4ada-b1ef-e8c786d43acf",
   "metadata": {},
   "outputs": [],
   "source": [
    "import pandas as pd"
   ]
  },
  {
   "cell_type": "code",
   "execution_count": 5,
   "id": "19cbc5ab-4762-4b5f-8ad2-26e67eb3ffe1",
   "metadata": {},
   "outputs": [
    {
     "data": {
      "text/plain": [
       "'2.2.2'"
      ]
     },
     "execution_count": 5,
     "metadata": {},
     "output_type": "execute_result"
    }
   ],
   "source": [
    "\n",
    "pd.__version__ #`pd.__version__` returns the version of the Pandas library installed in your Python environment."
   ]
  },
  {
   "cell_type": "code",
   "execution_count": 7,
   "id": "177fcf7e-3860-40ad-9b8f-a9963aa15f78",
   "metadata": {},
   "outputs": [
    {
     "name": "stdout",
     "output_type": "stream",
     "text": [
      "[1, 2, -3, 6.2, 'data values']\n"
     ]
    }
   ],
   "source": [
    "list_s=[1,2,-3,6.2,'data values']#The list list_s = [1, 2, -3, 6.2, 'data values'] contains a mix of integers, a float, and a string.\n",
    "print(list_s)"
   ]
  },
  {
   "cell_type": "code",
   "execution_count": 9,
   "id": "815e8318-592d-45df-9d45-56216854744a",
   "metadata": {},
   "outputs": [
    {
     "name": "stdout",
     "output_type": "stream",
     "text": [
      "0              1\n",
      "1              2\n",
      "2             -3\n",
      "3            6.2\n",
      "4    data values\n",
      "dtype: object\n"
     ]
    }
   ],
   "source": [
    "series1=pd.Series(list_s)#`series1 = pd.Series(list_s)` creates a Pandas Series from the `list_s`, converting the list into a one-dimensional labeled array.\n",
    "print(series1)"
   ]
  },
  {
   "cell_type": "code",
   "execution_count": 11,
   "id": "0cb09b34-751b-4ad8-818b-11cb9dcffc53",
   "metadata": {},
   "outputs": [
    {
     "data": {
      "text/plain": [
       "pandas.core.series.Series"
      ]
     },
     "execution_count": 11,
     "metadata": {},
     "output_type": "execute_result"
    }
   ],
   "source": [
    "type(series1)"
   ]
  },
  {
   "cell_type": "code",
   "execution_count": 18,
   "id": "23657dc5-4e0c-42a6-9752-7fb85e58f458",
   "metadata": {},
   "outputs": [
    {
     "name": "stdout",
     "output_type": "stream",
     "text": [
      "0    1\n",
      "1    2\n",
      "2    3\n",
      "3    4\n",
      "dtype: int64\n"
     ]
    }
   ],
   "source": [
    "series2=pd.Series([1,2,3,4])#`series2 = pd.Series([1, 2, 3, 4])` creates a Pandas Series from the list `[1, 2, 3, 4]`, where each element is assigned a default index (0, 1, 2, 3).\n",
    "print(series2)"
   ]
  },
  {
   "cell_type": "code",
   "execution_count": 20,
   "id": "6bed45b5-0f3c-4cdb-91cf-3c0251dbaa8c",
   "metadata": {},
   "outputs": [
    {
     "name": "stdout",
     "output_type": "stream",
     "text": [
      "Series([], dtype: object)\n"
     ]
    }
   ],
   "source": [
    "empty_s=pd.Series([])#`empty_s = pd.Series([])` creates an empty Pandas Series with no elements. It will have no data and a default integer index starting from 0.\n",
    "print(empty_s)"
   ]
  },
  {
   "cell_type": "code",
   "execution_count": 22,
   "id": "99984a5f-94ac-4e55-ade6-6def0b2cf304",
   "metadata": {},
   "outputs": [
    {
     "name": "stdout",
     "output_type": "stream",
     "text": [
      "0    1\n",
      "1    2\n",
      "2    3\n",
      "3    4\n",
      "dtype: int64\n"
     ]
    }
   ],
   "source": [
    "series2=pd.Series([1,2,3,4])#`series2 = pd.Series([1, 2, 3, 4])` creates a Pandas Series from the list `[1, 2, 3, 4]` with a default integer index.\n",
    "print(series2)"
   ]
  },
  {
   "cell_type": "code",
   "execution_count": 26,
   "id": "8cec8bbb-1aee-4bc4-b615-968483952aa8",
   "metadata": {},
   "outputs": [
    {
     "name": "stdout",
     "output_type": "stream",
     "text": [
      "Series([], dtype: object)\n"
     ]
    }
   ],
   "source": [
    "empty_s=pd.Series([])#`empty_s = pd.Series([])` creates an empty Pandas Series with no data and a default integer index.\n",
    "print(empty_s)"
   ]
  },
  {
   "cell_type": "code",
   "execution_count": 30,
   "id": "c93a51ee-3694-4fe7-a2c0-0d1387bec4bb",
   "metadata": {},
   "outputs": [
    {
     "name": "stdout",
     "output_type": "stream",
     "text": [
      "a    1\n",
      "b    2\n",
      "c    3\n",
      "d    4\n",
      "dtype: int64\n"
     ]
    }
   ],
   "source": [
    "series3=pd.Series([1,2,3,4],index=['a','b','c','d'])#`series3 = pd.Series([1, 2, 3, 4], index=['a', 'b', 'c', 'd'])` creates a Pandas Series with custom indices `'a', 'b', 'c', 'd'` for the corresponding values `[1, 2, 3, 4]`.\n",
    "print(series3)"
   ]
  },
  {
   "cell_type": "code",
   "execution_count": 34,
   "id": "4a43ee86-ab84-4396-a5d9-4e24616c6efb",
   "metadata": {},
   "outputs": [
    {
     "name": "stdout",
     "output_type": "stream",
     "text": [
      "a    1.0\n",
      "b    2.0\n",
      "c    3.0\n",
      "d    4.0\n",
      "dtype: float64\n"
     ]
    }
   ],
   "source": [
    "series3=pd.Series([1,2,3,4],index=['a','b','c','d'],dtype=float )#`series3 = pd.Series([1, 2, 3, 4], index=['a', 'b', 'c', 'd'], dtype=float)` creates a Pandas Series with custom indices `'a', 'b', 'c', 'd'`, values `[1, 2, 3, 4]`, and sets the data type to `float`.\n",
    "print(series3)"
   ]
  },
  {
   "cell_type": "code",
   "execution_count": 36,
   "id": "ceb73d3a-40b6-4b8d-b93c-b7264e932be6",
   "metadata": {},
   "outputs": [
    {
     "name": "stdout",
     "output_type": "stream",
     "text": [
      "a    1.0\n",
      "b    2.0\n",
      "c    3.0\n",
      "d    4.0\n",
      "Name: data values, dtype: float64\n"
     ]
    }
   ],
   "source": [
    "series3=pd.Series([1,2,3,4],index=['a','b','c','d'],dtype=float,name='data values' )#`series3 = pd.Series([1, 2, 3, 4], index=['a', 'b', 'c', 'd'], dtype=float, name='data values')` creates a Pandas Series with custom indices `'a', 'b', 'c', 'd'`, values `[1, 2, 3, 4]`, sets the data type to `float`, and assigns the name 'data values' to the Series.\n",
    "print(series3)"
   ]
  },
  {
   "cell_type": "code",
   "execution_count": 38,
   "id": "ca61320e-c695-4d52-bd04-d0a59b20d73f",
   "metadata": {},
   "outputs": [
    {
     "name": "stdout",
     "output_type": "stream",
     "text": [
      "0    0.5\n",
      "dtype: float64\n"
     ]
    }
   ],
   "source": [
    "scaler_s=pd.Series(0.5)#`scaler_s = pd.Series(0.5)` creates a Pandas Series with a single value `0.5` and a default integer index `0`.\n",
    "print(scaler_s)"
   ]
  },
  {
   "cell_type": "code",
   "execution_count": 40,
   "id": "cdf66d79-6916-422c-aaab-c229a400b29a",
   "metadata": {},
   "outputs": [
    {
     "name": "stdout",
     "output_type": "stream",
     "text": [
      "0    0.5\n",
      "dtype: float64\n"
     ]
    }
   ],
   "source": [
    "scalar_s=pd.Series(0.5,index=[1,2,3])#`scalar_s = pd.Series(0.5, index=[1, 2, 3])` creates a Pandas Series with the value `0.5` repeated for each index `[1, 2, 3]`.\n",
    "print(scaler_s)"
   ]
  },
  {
   "cell_type": "code",
   "execution_count": 44,
   "id": "7d32c0da-d07b-41e2-b489-4fd502ab7f7f",
   "metadata": {},
   "outputs": [
    {
     "name": "stdout",
     "output_type": "stream",
     "text": [
      "a    1\n",
      "b    2\n",
      "dtype: int64\n"
     ]
    }
   ],
   "source": [
    "dict_s=pd.Series({'a':1,'b':2})#`dict_s = pd.Series({'a': 1, 'b': 2})` creates a Pandas Series from a dictionary with keys `'a'` and `'b'` as indices, and corresponding values `1` and `2`.\n",
    "print(dict_s)"
   ]
  },
  {
   "cell_type": "code",
   "execution_count": 48,
   "id": "13fc463a-370e-42d5-abcc-e26e97f7a4da",
   "metadata": {},
   "outputs": [
    {
     "name": "stdout",
     "output_type": "stream",
     "text": [
      "0    1\n",
      "1    2\n",
      "2    3\n",
      "3    4\n",
      "4    5\n",
      "dtype: int64\n"
     ]
    }
   ],
   "source": [
    "s4=pd.Series([1,2,3,4,5])#`s4 = pd.Series([1, 2, 3, 4, 5])` creates a Pandas Series with values `[1, 2, 3, 4, 5]` and a default integer index.\n",
    "print(s4)"
   ]
  },
  {
   "cell_type": "code",
   "execution_count": 52,
   "id": "593781f6-23f0-4627-9ed0-a48ad989face",
   "metadata": {},
   "outputs": [
    {
     "data": {
      "text/plain": [
       "5"
      ]
     },
     "execution_count": 52,
     "metadata": {},
     "output_type": "execute_result"
    }
   ],
   "source": [
    "s4[4]#`s4[4]` accesses the element at index `4` in the Pandas Series `s4`, which in this case would return the value `5`, as the Series has the default integer index starting from 0."
   ]
  },
  {
   "cell_type": "code",
   "execution_count": 54,
   "id": "235babfb-9cdb-425d-b327-db3cd6e2d912",
   "metadata": {},
   "outputs": [
    {
     "data": {
      "text/plain": [
       "0    1\n",
       "1    2\n",
       "2    3\n",
       "dtype: int64"
      ]
     },
     "execution_count": 54,
     "metadata": {},
     "output_type": "execute_result"
    }
   ],
   "source": [
    "s4[0:3]#`s4[0:3]` returns a slice of the Pandas Series `s4` from index `0` to `2` (not including index `3`), which would give the values `[1, 2, 3]`."
   ]
  },
  {
   "cell_type": "code",
   "execution_count": 56,
   "id": "c7ca7cd8-9f75-49d4-bccd-a96d37fce1ce",
   "metadata": {},
   "outputs": [
    {
     "data": {
      "text/plain": [
       "5"
      ]
     },
     "execution_count": 56,
     "metadata": {},
     "output_type": "execute_result"
    }
   ],
   "source": [
    "max(s4)#`max(s4)` returns the maximum value in the Pandas Series `s4`. For `s4 = [1, 2, 3, 4, 5]`, it would return `5`."
   ]
  },
  {
   "cell_type": "code",
   "execution_count": 58,
   "id": "7e34049b-35ac-4aff-9370-eeeb736b444e",
   "metadata": {},
   "outputs": [
    {
     "data": {
      "text/plain": [
       "1"
      ]
     },
     "execution_count": 58,
     "metadata": {},
     "output_type": "execute_result"
    }
   ],
   "source": [
    "min(s4)#`max(s4)` returns the minimum value in the Pandas Series `s4`. For `s4 = [1, 2, 3, 4, 5]`, it would return `1`."
   ]
  },
  {
   "cell_type": "code",
   "execution_count": 60,
   "id": "a690ce08-bc65-4373-ac32-e9985a58f306",
   "metadata": {},
   "outputs": [
    {
     "data": {
      "text/plain": [
       "3    4\n",
       "4    5\n",
       "dtype: int64"
      ]
     },
     "execution_count": 60,
     "metadata": {},
     "output_type": "execute_result"
    }
   ],
   "source": [
    "s4[s4>3]#`s4[s4 > 3]` filters the Pandas Series `s4` and returns only the values greater than `3`. For `s4 = [1, 2, 3, 4, 5]`, it would return a Series with values `[4, 5]`."
   ]
  },
  {
   "cell_type": "code",
   "execution_count": 62,
   "id": "1cd468c0-9125-458e-9b5f-e238214ff0a7",
   "metadata": {},
   "outputs": [
    {
     "data": {
      "text/plain": [
       "0    1\n",
       "1    2\n",
       "2    3\n",
       "3    4\n",
       "4    5\n",
       "dtype: int64"
      ]
     },
     "execution_count": 62,
     "metadata": {},
     "output_type": "execute_result"
    }
   ],
   "source": [
    "s4"
   ]
  },
  {
   "cell_type": "code",
   "execution_count": 64,
   "id": "90cd699b-9e13-400e-b018-40aedd8794bd",
   "metadata": {},
   "outputs": [
    {
     "data": {
      "text/plain": [
       "0    1\n",
       "1    2\n",
       "2    3\n",
       "3    4\n",
       "4    5\n",
       "dtype: int64"
      ]
     },
     "execution_count": 64,
     "metadata": {},
     "output_type": "execute_result"
    }
   ],
   "source": [
    "s5=pd.Series([1,2,3,4,5])#`s5 = pd.Series([1, 2, 3, 4, 5])` creates a Pandas Series with values `[1, 2, 3, 4, 5]` and a default integer index starting from `0`.\n",
    "s5"
   ]
  },
  {
   "cell_type": "code",
   "execution_count": 66,
   "id": "cd4686f0-7933-431b-bc74-e8c38624988d",
   "metadata": {},
   "outputs": [
    {
     "data": {
      "text/plain": [
       "0     2\n",
       "1     4\n",
       "2     6\n",
       "3     8\n",
       "4    10\n",
       "dtype: int64"
      ]
     },
     "execution_count": 66,
     "metadata": {},
     "output_type": "execute_result"
    }
   ],
   "source": [
    "s4+s5"
   ]
  },
  {
   "cell_type": "code",
   "execution_count": 68,
   "id": "dd81143a-2013-4763-b6df-20ca7a8deded",
   "metadata": {},
   "outputs": [
    {
     "name": "stdout",
     "output_type": "stream",
     "text": [
      "0    1\n",
      "1    2\n",
      "2    3\n",
      "dtype: int64\n"
     ]
    }
   ],
   "source": [
    "s6=pd.Series([1,2,3])\n",
    "print(s6)"
   ]
  },
  {
   "cell_type": "code",
   "execution_count": 70,
   "id": "98c23d59-79c2-4f28-b016-48d8c2d239cd",
   "metadata": {},
   "outputs": [
    {
     "data": {
      "text/plain": [
       "0    2.0\n",
       "1    4.0\n",
       "2    6.0\n",
       "3    NaN\n",
       "4    NaN\n",
       "dtype: float64"
      ]
     },
     "execution_count": 70,
     "metadata": {},
     "output_type": "execute_result"
    }
   ],
   "source": [
    "s5+s6"
   ]
  },
  {
   "cell_type": "code",
   "execution_count": null,
   "id": "26215cd7-0a9e-4345-a74c-b1a7386ca677",
   "metadata": {},
   "outputs": [],
   "source": []
  }
 ],
 "metadata": {
  "kernelspec": {
   "display_name": "Python 3 (ipykernel)",
   "language": "python",
   "name": "python3"
  },
  "language_info": {
   "codemirror_mode": {
    "name": "ipython",
    "version": 3
   },
   "file_extension": ".py",
   "mimetype": "text/x-python",
   "name": "python",
   "nbconvert_exporter": "python",
   "pygments_lexer": "ipython3",
   "version": "3.12.4"
  }
 },
 "nbformat": 4,
 "nbformat_minor": 5
}
