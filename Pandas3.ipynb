{
 "cells": [
  {
   "cell_type": "markdown",
   "id": "be43b2e3-ff5b-47c6-876f-766c31b451ae",
   "metadata": {},
   "source": [
    "CSV='Coma Seperated Value'"
   ]
  },
  {
   "cell_type": "code",
   "execution_count": 4,
   "id": "0114b10a-9b3b-4a12-97ec-c8ef7fff1cda",
   "metadata": {},
   "outputs": [],
   "source": [
    "import pandas as pd"
   ]
  },
  {
   "cell_type": "code",
   "execution_count": null,
   "id": "5df5df2b-aa2e-47a6-afa7-daedc1634b37",
   "metadata": {},
   "outputs": [],
   "source": []
  }
 ],
 "metadata": {
  "kernelspec": {
   "display_name": "Python 3 (ipykernel)",
   "language": "python",
   "name": "python3"
  },
  "language_info": {
   "codemirror_mode": {
    "name": "ipython",
    "version": 3
   },
   "file_extension": ".py",
   "mimetype": "text/x-python",
   "name": "python",
   "nbconvert_exporter": "python",
   "pygments_lexer": "ipython3",
   "version": "3.12.4"
  }
 },
 "nbformat": 4,
 "nbformat_minor": 5
}
